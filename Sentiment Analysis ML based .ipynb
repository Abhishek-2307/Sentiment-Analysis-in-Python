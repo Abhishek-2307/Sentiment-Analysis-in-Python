{
 "cells": [
  {
   "cell_type": "markdown",
   "metadata": {},
   "source": [
    "### Installing NLTK toolkit"
   ]
  },
  {
   "cell_type": "code",
   "execution_count": 1,
   "metadata": {
    "collapsed": true
   },
   "outputs": [],
   "source": [
    "import nltk"
   ]
  },
  {
   "cell_type": "code",
   "execution_count": 2,
   "metadata": {
    "collapsed": true
   },
   "outputs": [],
   "source": [
    "positive = \"rt-polaritydata/rt-polarity.pos\"\n",
    "negative = \"rt-polaritydata/rt-polarity.neg\""
   ]
  },
  {
   "cell_type": "code",
   "execution_count": 3,
   "metadata": {
    "collapsed": true
   },
   "outputs": [],
   "source": [
    "with open(positive,'r') as f:\n",
    "    positive = f.readlines()\n",
    "    \n",
    "with open(negative,'r') as f:\n",
    "    negative = f.readlines()"
   ]
  },
  {
   "cell_type": "code",
   "execution_count": 4,
   "metadata": {},
   "outputs": [],
   "source": [
    "# defining the data on the copous\n",
    "testTrainingSplitIndex = 2500\n",
    "\n",
    "testNegativeReviews = negative[testTrainingSplitIndex+1:]\n",
    "testPositiveReviews = positive[testTrainingSplitIndex+1:]\n",
    "\n",
    "trainingNegativeReviews = negative[:testTrainingSplitIndex]\n",
    "trainingPositiveReviews = positive[:testTrainingSplitIndex]"
   ]
  },
  {
   "cell_type": "code",
   "execution_count": 5,
   "metadata": {
    "collapsed": true
   },
   "outputs": [],
   "source": [
    "def getTestReviewSentiments(naiveBayesSentimentCalculator):\n",
    "  testNegResults = [naiveBayesSentimentCalculator(review) for review in testNegativeReviews]\n",
    "  testPosResults = [naiveBayesSentimentCalculator(review) for review in testPositiveReviews]\n",
    "  labelToNum = {'positive':1,'negative':-1}\n",
    "  numericNegResults = [labelToNum[x] for x in testNegResults]\n",
    "  numericPosResults = [labelToNum[x] for x in testPosResults]\n",
    "  return {'results-on-positive':numericPosResults, 'results-on-negative':numericNegResults}"
   ]
  },
  {
   "cell_type": "code",
   "execution_count": 6,
   "metadata": {
    "collapsed": true
   },
   "outputs": [],
   "source": [
    "def runDiagnostics(reviewResult):\n",
    "  positiveReviewsResult = reviewResult['results-on-positive']\n",
    "  negativeReviewsResult = reviewResult['results-on-negative']\n",
    "  numTruePositive = sum(x > 0 for x in positiveReviewsResult)\n",
    "  numTrueNegative = sum(x < 0 for x in negativeReviewsResult)\n",
    "  pctTruePositive = float(numTruePositive)/len(positiveReviewsResult)\n",
    "  pctTrueNegative = float(numTrueNegative)/len(negativeReviewsResult)  \n",
    "  totalAccurate = numTruePositive + numTrueNegative\n",
    "  total = len(positiveReviewsResult) + len(negativeReviewsResult)\n",
    "  print(\"Accuracy on positive reviews = \" +\"%.2f\" % (pctTruePositive*100) + \"%\")\n",
    "  print(\"Accurance on negative reviews = \" +\"%.2f\" % (pctTrueNegative*100) + \"%\")\n",
    "  print(\"Overall accuracy = \" + \"%.2f\" % (totalAccurate*100/total) + \"%\")"
   ]
  },
  {
   "cell_type": "code",
   "execution_count": 7,
   "metadata": {
    "collapsed": true
   },
   "outputs": [],
   "source": [
    "def getVocabulary():\n",
    "  positiveWordList = [word for line in trainingPositiveReviews for word in line.split()]\n",
    "  negativeWordList = [word for line in trainingNegativeReviews for word in line.split()]\n",
    "  allWordList = [item for sublist in [positiveWordList,negativeWordList] for item in sublist]\n",
    "  allWordSet = list(set(allWordList))\n",
    "  vocabulary = allWordSet\n",
    "  return vocabulary"
   ]
  },
  {
   "cell_type": "code",
   "execution_count": 8,
   "metadata": {
    "collapsed": true
   },
   "outputs": [],
   "source": [
    "vocabulary = getVocabulary()"
   ]
  },
  {
   "cell_type": "code",
   "execution_count": 9,
   "metadata": {},
   "outputs": [
    {
     "data": {
      "text/plain": [
       "'deepest'"
      ]
     },
     "execution_count": 9,
     "metadata": {},
     "output_type": "execute_result"
    }
   ],
   "source": [
    "vocabulary[0]"
   ]
  },
  {
   "cell_type": "code",
   "execution_count": 10,
   "metadata": {},
   "outputs": [
    {
     "data": {
      "text/plain": [
       "14102"
      ]
     },
     "execution_count": 10,
     "metadata": {},
     "output_type": "execute_result"
    }
   ],
   "source": [
    "len(vocabulary)"
   ]
  },
  {
   "cell_type": "code",
   "execution_count": 11,
   "metadata": {
    "collapsed": true
   },
   "outputs": [],
   "source": [
    "def getTrainingData():\n",
    "  negTaggedTrainingReviewList = [{'review':oneReview.split(),'label':'negative'} for oneReview in trainingNegativeReviews] \n",
    "  posTaggedTrainingReviewList = [{'review':oneReview.split(),'label':'positive'} for oneReview in trainingPositiveReviews] \n",
    "  fullTaggedTrainingData = [item for sublist in [negTaggedTrainingReviewList,posTaggedTrainingReviewList] for item in sublist]\n",
    "  trainingData = [(review['review'],review['label']) for review in fullTaggedTrainingData]\n",
    "  return trainingData"
   ]
  },
  {
   "cell_type": "code",
   "execution_count": 12,
   "metadata": {
    "collapsed": true
   },
   "outputs": [],
   "source": [
    "def extract_features(review):\n",
    "  review_words=set(review)\n",
    "  features={}\n",
    "  for word in vocabulary:\n",
    "      features[word]=(word in review_words)\n",
    "  return features "
   ]
  },
  {
   "cell_type": "code",
   "execution_count": 13,
   "metadata": {
    "collapsed": true
   },
   "outputs": [],
   "source": [
    "def getTrainedNaiveBayesClassifier(extract_features, trainingData):\n",
    "  trainingFeatures=nltk.classify.apply_features(extract_features, trainingData)\n",
    "  trainedNBClassifier=nltk.NaiveBayesClassifier.train(trainingFeatures)\n",
    "  return trainedNBClassifier"
   ]
  },
  {
   "cell_type": "code",
   "execution_count": 14,
   "metadata": {
    "collapsed": true
   },
   "outputs": [],
   "source": [
    "vocabulary = getVocabulary()\n",
    "trainingData = getTrainingData()\n",
    "trainedNBClassifier = getTrainedNaiveBayesClassifier(extract_features,trainingData)"
   ]
  },
  {
   "cell_type": "code",
   "execution_count": 15,
   "metadata": {
    "collapsed": true
   },
   "outputs": [],
   "source": [
    "def naiveBayesSentimentCalculator(review):\n",
    "  problemInstance = review.split()\n",
    "  problemFeatures = extract_features(problemInstance)\n",
    "  return trainedNBClassifier.classify(problemFeatures)\n"
   ]
  },
  {
   "cell_type": "code",
   "execution_count": 16,
   "metadata": {},
   "outputs": [
    {
     "data": {
      "text/plain": [
       "'positive'"
      ]
     },
     "execution_count": 16,
     "metadata": {},
     "output_type": "execute_result"
    }
   ],
   "source": [
    "naiveBayesSentimentCalculator(\"What an awesome movie\")\n"
   ]
  },
  {
   "cell_type": "code",
   "execution_count": 17,
   "metadata": {},
   "outputs": [
    {
     "data": {
      "text/plain": [
       "'negative'"
      ]
     },
     "execution_count": 17,
     "metadata": {},
     "output_type": "execute_result"
    }
   ],
   "source": [
    "naiveBayesSentimentCalculator(\"What a terrible movie\")"
   ]
  },
  {
   "cell_type": "code",
   "execution_count": null,
   "metadata": {
    "collapsed": true
   },
   "outputs": [],
   "source": [
    "runDiagnostics(getTestReviewSentiments(naiveBayesSentimentCalculator))"
   ]
  },
  {
   "cell_type": "code",
   "execution_count": null,
   "metadata": {
    "collapsed": true
   },
   "outputs": [],
   "source": []
  }
 ],
 "metadata": {
  "kernelspec": {
   "display_name": "Python 3",
   "language": "python",
   "name": "python3"
  },
  "language_info": {
   "codemirror_mode": {
    "name": "ipython",
    "version": 3
   },
   "file_extension": ".py",
   "mimetype": "text/x-python",
   "name": "python",
   "nbconvert_exporter": "python",
   "pygments_lexer": "ipython3",
   "version": "3.6.1"
  }
 },
 "nbformat": 4,
 "nbformat_minor": 2
}
